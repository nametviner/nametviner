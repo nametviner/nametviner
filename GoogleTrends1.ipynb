{
 "cells": [
  {
   "cell_type": "markdown",
   "id": "e00b9ef7",
   "metadata": {},
   "source": [
    "# Google Trends\n",
    "### Parameters\n",
    " - **Search:**\n",
    "     - Enter term/company of interest\n",
    " - **Time_range:**\n",
    "     - Pick a time range of interest\n",
    " - **Related_terms:**\n",
    "     - <i>Suggested terms:</i> 5 terms that google suggests next when typing\n",
    "     - <i>Top related queries:</i> the 10 most popular search queries related to your search\n",
    "     - <i>Rising related queries:</i> 10 queries with the most significant growth in volume in the requested time period. Results with >5000% increase are probably new and had few (if any) prior searches"
   ]
  },
  {
   "cell_type": "code",
   "execution_count": 1,
   "id": "14d2590e",
   "metadata": {},
   "outputs": [],
   "source": [
    "import pytrends\n",
    "import pandas as pd \n",
    "from pytrends.request import TrendReq\n",
    "import matplotlib.pyplot as plt \n",
    "from datetime import datetime\n",
    "import time\n",
    "import seaborn as sns\n",
    "import matplotlib.dates as mdates\n",
    "import pytz\n",
    "from pytz import timezone \n",
    "\n",
    "from ipywidgets import interact, interactive, fixed, interact_manual, Button\n",
    "import ipywidgets as widgets"
   ]
  },
  {
   "cell_type": "code",
   "execution_count": 2,
   "id": "20a1ae7f",
   "metadata": {},
   "outputs": [],
   "source": [
    "pytrend = TrendReq(hl = 'en US', tz = 300)\n",
    "options = ['today 5-y', 'today 12-m','today 1-m', 'today 3-m','now 1-d', 'now 7-d', 'now 1-H', 'now 4-H']\n",
    "theoptions = ['5 years', '1 year', '1 month','3 months', '1 day', '7 days', '1 hour', '4 hours' ]"
   ]
  },
  {
   "cell_type": "code",
   "execution_count": 3,
   "id": "cb9507da",
   "metadata": {},
   "outputs": [],
   "source": [
    "def suggestions(keyword):\n",
    "    df = pd.DataFrame(pytrend.suggestions(keyword))\n",
    "    d = df[['mid', 'title']]\n",
    "    new_d = d.set_index('mid')\n",
    "    return new_d.to_dict()['title']\n",
    "def related_queries(keyword, spec, correct_format):\n",
    "    pytrend.build_payload([keyword], cat=0, timeframe=correct_format, geo='', gprop='')    \n",
    "    related_queries = pytrend.related_queries()\n",
    "    return related_queries[keyword][spec]"
   ]
  },
  {
   "cell_type": "code",
   "execution_count": 4,
   "id": "31e58ca8",
   "metadata": {},
   "outputs": [],
   "source": [
    "def get_and_plot_suggestions(keyword, wanted_time, param):\n",
    "    ind = theoptions.index(wanted_time)\n",
    "    correct_format = options[ind]\n",
    "    sug = list()\n",
    "    if param == 'suggested terms':\n",
    "        sug = [keyword] + list(suggestions(keyword).values())\n",
    "    elif param == 'top related queries':\n",
    "        sug = related_queries(keyword, 'top', correct_format)[0:10]['query'].to_list()\n",
    "    elif param == 'rising related queries':\n",
    "        rising = related_queries(keyword, 'rising', correct_format)\n",
    "        percent_inc = rising.set_index('query').to_dict()['value']\n",
    "        sug = rising[0:10]['query'].to_list()\n",
    "    looked_at = []\n",
    "    colors = ['b','g','r','c','m','y','purple','gray','k','b']\n",
    "    for i in range(len(sug)):\n",
    "        if sug[i].lower() in looked_at:\n",
    "            continue\n",
    "        looked_at.append(sug[i].lower())\n",
    "        pytrend.build_payload([sug[i]], cat=0, timeframe=correct_format, geo='', gprop='')\n",
    "        overtime = pd.DataFrame(pytrend.interest_over_time().drop(columns = 'isPartial'))\n",
    "        \n",
    "        index = overtime.index\n",
    "        est = timezone('US/Eastern')\n",
    "        overtime.index = index.tz_localize(pytz.utc).tz_convert(est)\n",
    "        \n",
    "        ax = overtime.plot.line(color = colors[i], figsize = (12,8))\n",
    "        ax.legend(loc = 'upper right', bbox_to_anchor=(1.0, 1), prop = {'size':15})\n",
    "        ax.tick_params(axis='both', which='both', labelsize=15)\n",
    "        ax.set_xlabel('date',fontsize = 15)\n",
    "        \n",
    "        if param == 'rising related queries':\n",
    "            inc = percent_inc[sug[i]]\n",
    "            ax.set_xlabel('date \\n \\n {} searches increased {}% in {}'.format(sug[i], inc, wanted_time))\n",
    "    if param == 'rising related queries':\n",
    "        rising['% change'] = rising['value']\n",
    "        rising = rising.drop(columns = 'value')[0:10]\n",
    "        return rising"
   ]
  },
  {
   "cell_type": "code",
   "execution_count": 5,
   "id": "5d71441e",
   "metadata": {
    "scrolled": false
   },
   "outputs": [
    {
     "data": {
      "application/vnd.jupyter.widget-view+json": {
       "model_id": "2f1616d7e574446ab41d141cf2219838",
       "version_major": 2,
       "version_minor": 0
      },
      "text/plain": [
       "interactive(children=(Text(value='', description='search'), Dropdown(description='related_terms', options=('su…"
      ]
     },
     "metadata": {},
     "output_type": "display_data"
    }
   ],
   "source": [
    "@interact_manual \n",
    "def run(search = '', related_terms = ['suggested terms', 'top related queries', 'rising related queries'], time_range = theoptions):\n",
    "    sns.set(color_codes=True)\n",
    "\n",
    "    return get_and_plot_suggestions(search, time_range, related_terms)\n"
   ]
  },
  {
   "cell_type": "code",
   "execution_count": null,
   "id": "043fb14f",
   "metadata": {},
   "outputs": [],
   "source": []
  },
  {
   "cell_type": "code",
   "execution_count": null,
   "id": "fb7627b2",
   "metadata": {},
   "outputs": [],
   "source": []
  }
 ],
 "metadata": {
  "kernelspec": {
   "display_name": "Python 3",
   "language": "python",
   "name": "python3"
  },
  "language_info": {
   "codemirror_mode": {
    "name": "ipython",
    "version": 3
   },
   "file_extension": ".py",
   "mimetype": "text/x-python",
   "name": "python",
   "nbconvert_exporter": "python",
   "pygments_lexer": "ipython3",
   "version": "3.8.8"
  },
  "widgets": {
   "application/vnd.jupyter.widget-state+json": {
    "state": {},
    "version_major": 2,
    "version_minor": 0
   }
  }
 },
 "nbformat": 4,
 "nbformat_minor": 5
}
